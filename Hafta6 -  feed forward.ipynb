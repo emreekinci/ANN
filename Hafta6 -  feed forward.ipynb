{
 "cells": [
  {
   "cell_type": "markdown",
   "metadata": {
    "id": "BqPWL-ivwuBN",
    "origin_pos": 0
   },
   "source": [
    "# Feed Forward\n",
    "\n",
    "Pytorch kullanarak, input vektörü \n",
    "\n",
    "[0.1\n",
    "\n",
    "0.3\n",
    "\n",
    "0.7] \n",
    "\n",
    "olan tek neuronlu bir neural network oluştur.\n",
    "\n",
    "Weight ve bias değeri random olacak. Bunun için SEED = 1 olacak\n",
    "\n",
    "Aktivasyon fonksiyonu ise sigmoid. Formülü:\n",
    "\n",
    "![image.png](data:image/png;base64,iVBORw0KGgoAAAANSUhEUgAAAOAAAABHCAYAAAAeNEu3AAAMbmlDQ1BJQ0MgUHJvZmlsZQAASImVVwdYU8kWnluSkJDQAghICb0JIjWAlBBa6B3BRkgCCSXGhKBiL4sKrgURUazoKohiWwGxY1cWxd4XCyrKuqiLDZU3IQFd95Xvne+be/+cOfOfcmdy7wFA8wNXIslDtQDIFxdIE8KCGGPS0hmkpwAFxkAfjAQeXJ5MwoqLiwJQBu9/l3c3AKK4X3VScP1z/r+KDl8g4wGAjIM4ky/j5UN8HAB8HU8iLQCAqNBbTimQKPAciHWlMECIyxU4W4lrFDhTiQ8P2CQlsCG+DIAalcuVZgOgcQ/qGYW8bMij8RliFzFfJAZAcwTE/jwhlw+xIvYR+fmTFLgSYjtoL4EYxgOYmd9xZv+NP3OIn8vNHsLKvAZELVgkk+Rxp/2fpfnfkp8nH/RhAwdVKA1PUOQPa3grd1KkAlMh7hZnxsQqag3xBxFfWXcAUIpQHp6stEeNeTI2rB985gB14XODIyE2hjhUnBcTpdJnZolCORDD3YJOFRVwkiA2gHiRQBaSqLLZJJ2UoPKFNmRJ2SyV/hxXOuBX4euBPDeZpeJ/IxRwVPyYRpEwKRViCsRWhaKUGIg1IHaW5SZGqmxGFwnZMYM2UnmCIn4riBME4rAgJT9WmCUNTVDZl+TLBvPFNglFnBgV3lcgTApX1gc7xeMOxA9zwS4LxKzkQR6BbEzUYC58QXCIMnfsuUCcnKji+SApCEpQrsUpkrw4lT1uIcgLU+gtIHaXFSaq1uIpBXBzKvnxLElBXJIyTrwohxsRp4wHXw6iABsEAwaQw5EJJoEcIGrrbuyGv5QzoYALpCAbCICTSjO4InVgRgyviaAI/AGRAMiG1gUNzApAIdR/GdIqr04ga2C2cGBFLngKcT6IBHnwt3xglXjIWwp4AjWif3jnwsGD8ebBoZj/9/pB7TcNC2qiVBr5oEeG5qAlMYQYTAwnhhLtcSPcH/fFo+A1EA5XnIl7D+bxzZ7wlNBOeES4Tugg3J4omif9Icpo0AH5Q1W1yPy+FrgN5PTAg3A/yA6ZcX3cCDjh7tAPCw+Anj2glq2KW1EVxg/cf8vgu6ehsiO7kFHyMHIg2e7HlRoOGh5DLIpaf18fZayZQ/VmD8386J/9XfX58B75oyW2CNuPncVOYOexw1gjYGDHsCasFTuiwEO768nA7hr0ljAQTy7kEf3DH1flU1FJmUudS5fLZ+VcgWBqgeLgsSdJpklF2cICBgu+HQQMjpjnPILh6uLqCoDiXaP8+3obP/AOQfRbv+nm/w6A37H+/v5D33QRxwDY6wWP/8FvOjsmANrqAJw7yJNLC5U6XHEhwH8JTXjSDIEpsAR2MB9X4Al8QSAIAREgFiSBNDABVlkI97kUTAEzwFxQDErBcrAKrAUbwRZQA3aBfaARHAYnwBlwEVwG18FduHs6wUvQA96BPgRBSAgNoSOGiBlijTgirggT8UdCkCgkAUlDMpBsRIzIkRnIfKQUKUPWIpuRWmQvchA5gZxH2pHbyEOkC3mDfEIxlIrqoiaoDToSZaIsNBJNQsej2ehktAhdgC5FK9FqdCfagJ5AL6LX0Q70JdqLAUwd08fMMSeMibGxWCwdy8Kk2CysBKvAqrF6rBk+56tYB9aNfcSJOB1n4E5wB4fjyTgPn4zPwpfga/EavAE/hV/FH+I9+FcCjWBMcCT4EDiEMYRswhRCMaGCsI1wgHAanqVOwjsikahPtCV6wbOYRswhTicuIa4n7iYeJ7YTHxN7SSSSIcmR5EeKJXFJBaRi0hrSTtIx0hVSJ+mDmrqamZqrWqhauppYbZ5ahdoOtaNqV9SeqfWRtcjWZB9yLJlPnkZeRt5KbiZfIneS+yjaFFuKHyWJkkOZS6mk1FNOU+5R3qqrq1uoe6vHq4vU56hXqu9RP6f+UP0jVYfqQGVTx1Hl1KXU7dTj1NvUtzQazYYWSEunFdCW0mppJ2kPaB806BrOGhwNvsZsjSqNBo0rGq80yZrWmizNCZpFmhWa+zUvaXZrkbVstNhaXK1ZWlVaB7VuavVq07VHacdq52sv0d6hfV77uQ5Jx0YnRIevs0Bni85Jncd0jG5JZ9N59Pn0rfTT9E5doq6tLkc3R7dUd5dum26Pno6eu16K3lS9Kr0jeh36mL6NPkc/T3+Z/j79G/qfhpkMYw0TDFs8rH7YlWHvDYYbBBoIDEoMdhtcN/hkyDAMMcw1XGHYaHjfCDdyMIo3mmK0wei0Ufdw3eG+w3nDS4bvG37HGDV2ME4wnm68xbjVuNfE1CTMRGKyxuSkSbepvmmgaY5puelR0y4zupm/mcis3OyY2QuGHoPFyGNUMk4xesyNzcPN5eabzdvM+yxsLZIt5lnstrhvSbFkWmZZllu2WPZYmVlFW82wqrO6Y022ZloLrVdbn7V+b2Nrk2qz0KbR5rmtgS3Htsi2zvaeHc0uwG6yXbXdNXuiPdM+1369/WUH1MHDQehQ5XDJEXX0dBQ5rndsH0EY4T1CPKJ6xE0nqhPLqdCpzumhs75zlPM850bnVyOtRqaPXDHy7MivLh4ueS5bXe6O0hkVMWreqOZRb1wdXHmuVa7X3GhuoW6z3ZrcXrs7ugvcN7jf8qB7RHss9Gjx+OLp5Sn1rPfs8rLyyvBa53WTqcuMYy5hnvMmeAd5z/Y+7P3Rx9OnwGefz5++Tr65vjt8n4+2HS0YvXX0Yz8LP67fZr8Of4Z/hv8m/44A8wBuQHXAo0DLQH7gtsBnLHtWDmsn61WQS5A06EDQe7YPeyb7eDAWHBZcEtwWohOSHLI25EGoRWh2aF1oT5hH2PSw4+GE8MjwFeE3OSYcHqeW0xPhFTEz4lQkNTIxcm3koyiHKGlUczQaHRG9MvpejHWMOKYxFsRyYlfG3o+zjZscdyieGB8XXxX/NGFUwoyEs4n0xImJOxLfJQUlLUu6m2yXLE9uSdFMGZdSm/I+NTi1LLVjzMgxM8dcTDNKE6U1pZPSU9K3pfeODRm7amznOI9xxeNujLcdP3X8+QlGE/ImHJmoOZE7cX8GISM1Y0fGZ24st5rbm8nJXJfZw2PzVvNe8gP55fwugZ+gTPAsyy+rLOt5tl/2yuwuYYCwQtgtYovWil7nhOdszHmfG5u7Pbc/LzVvd75afkb+QbGOOFd8apLppKmT2iWOkmJJx2Sfyasm90gjpdtkiGy8rKlAF37Ut8rt5D/JHxb6F1YVfpiSMmX/VO2p4qmt0xymLZ72rCi06Jfp+HTe9JYZ5jPmzng4kzVz8yxkVuasltmWsxfM7pwTNqdmLmVu7tzf5rnMK5v31/zU+c0LTBbMWfD4p7Cf6oo1iqXFNxf6Lty4CF8kWtS22G3xmsVfS/glF0pdSitKPy/hLbnw86ifK3/uX5q1tG2Z57INy4nLxctvrAhYUVOmXVZU9nhl9MqGckZ5SflfqyauOl/hXrFxNWW1fHVHZVRl0xqrNcvXfF4rXHu9Kqhq9zrjdYvXvV/PX39lQ+CG+o0mG0s3ftok2nRrc9jmhmqb6ootxC2FW55uTdl69hfmL7XbjLaVbvuyXby9oyah5lStV23tDuMdy+rQOnld185xOy/vCt7VVO9Uv3m3/u7SPWCPfM+LvRl7b+yL3Neyn7m//lfrX9cdoB8oaUAapjX0NAobO5rSmtoPRhxsafZtPnDI+dD2w+aHq47oHVl2lHJ0wdH+Y0XHeo9LjnefyD7xuGViy92TY05eOxV/qu105OlzZ0LPnDzLOnvsnN+5w+d9zh+8wLzQeNHzYkOrR+uB3zx+O9Dm2dZwyetS02Xvy83to9uPXgm4cuJq8NUz1zjXLl6Pud5+I/nGrZvjbnbc4t96fjvv9us7hXf67s65R7hXcl/rfsUD4wfVv9v/vrvDs+PIw+CHrY8SH919zHv88onsyefOBU9pTyuemT2rfe76/HBXaNflF2NfdL6UvOzrLv5D+491r+xe/fpn4J+tPWN6Ol9LX/e/WfLW8O32v9z/aumN633wLv9d3/uSD4Yfaj4yP579lPrpWd+Uz6TPlV/svzR/jfx6rz+/v1/ClXIHPgUwONCsLADebAeAlgYAHfZtlLHKXnBAEGX/OoDAf8LKfnFAPAGoh9/v8d3w6+YmAHu2wvYL8mvCXjWOBkCSN0Dd3IaGSmRZbq5KLirsUwgP+vvfwp6NtBKAL8v7+/uq+/u/bIHBwt7xuFjZgyqECHuGTSFfMvMzwb8RZX/6XY4/3oEiAnfw4/1fPReQ/QQlPXkAAAA4ZVhJZk1NACoAAAAIAAGHaQAEAAAAAQAAABoAAAAAAAKgAgAEAAAAAQAAAOCgAwAEAAAAAQAAAEcAAAAAQ5ZFiAAADZBJREFUeAHtnQewXUUZgAOBEEoCCVJCCyWYICGUIBiaEAFp0pt0HXHiEBBBEBAwM6IDCDowgAJWIKEoRdCROlJFpReBRMqAQASHIr0F/T44C/vuu/ee88I9t+4/82X37O7Z8p/9z7+7572XQYOSJA0kDSQNJA0kDVRoYHGuB1ekpcukgaSBkjUwD/WvAzfBSSW31fLq52t5D1IHel0Dw1CALACTYHfYDIbDU9DVkgywqx9v2w9uKD2cAaNgYtv3toQOJgMsQampysIa+B8l5W2YDg/BxrAV9IQkA+yJx9y2g9Tw9gT3fW+AxqhH7BlJBtgzj7ptB6rh9azM27MjTwNPGmgDDSQDbIOHkLrQuxpIBti7zz6NvA00kAywDR5C6kLvaiAZYO8++04YuaejXS3JALv68Xb84Pws0dWSDLCrH2/HDy55wI5/hGkASQNtrIHkAdv44aSudb8GkgF2/zNOI2xjDSQDbOOHk7rW/RpIBtj9zziNsI010EoDXBa9LFyiblYqse5UddJAQzTQqr+5MZreXwcrwLUNGUnfSjbi8lbw111u75uVrtpMA/7tl+VhJCwBO8MYUGbD3WCe5ebAW9CTsiij3gC+C7+GqbAhLAlBVOQJMH9IqBKuRdpMuAYWqpLfqKRTqcgPufs3qsJUTykauIxafU5FuLiUHrSw0qK/D7gXfdwX4t9UDhPbN9QB8A5cCQ/D+1BN1iDxwizjMMIyfxfseOofD6dn7fyWMEn7acCVypvwLoQVmcYYf4R3PvlS78nVzMkMXIX8F86AbWE0jAPz/gV6tH+A5Y6DaqK3+x1Y5qBqBUpIW506n4VHYO0S6k9VJg2UqgH/LFwwvj1qtLQj6a9k5SzrsrSaTCHRfJeeC1crUFJaeIFcT/31lsYlNZ+qTRqYOw3o6V4GjcblZy1xUl8KltMTjoJKcXPtUtUy8TK2slwZ1ytSqV5QDz4JkiQNtL0G/DuNeioN5h7wBKqeHE2mZa+AIVUKfjPLt66RVfLLTnLfaf8MW/nppexxpvo7TAO1JuMExrFlNpaHCF/IGZeeUrkLPIyJZQQXu2YJGvWLcWaT4qdl7WxD2JN/f7JJek7NDFADtQwwPrDw8KRWudBcOL26LiRE4VjifpdTbv4waPq/HhTNguEQXixN70RqMGmgUgO1DCtOn8xNm1TeWHGtl/wF3FuR7uUWWdpswvuzeJHAPiwFnrauDPEBikfUo2A1WAbyRK/7ZFZoPcKin1/y6k35SQOlaECP5Z4p4BLzMtgfVoHFoIhoRNPBejROP+YXEfeJ54N7Ru/1AOU8cG+qnAqPgXkzYSfIk1MoEMovnVc45ScNtFIDK9C4386csJVoDLfAWRAvVbnsJxqqhmcdM2Aw5MmyFLgNnoET4UBwaWsd98GZYB+OgMNAz/oK6CnrydfJDGP5XL2CdfJ8oSzSYIropE6XUlYna6DWUuwpBjUVLgcnXCzuo/SQsj18A66CaqLHWjLL0GjmVCsUpfl98FfgqavfHf0pCeXP8E+YkHEk4TlwMwRv9gXivjRqSZzni+OvtQrWSfe0d7c6+XOT5cHUUeDLIUmPaaCWAaqG68EDi2lZSNBP9FZ6tg3ggX65gwYtSJp7NUUDypOvUWALcJ92R1Q47uetpJ8NGpEGGeTxEKkRvhClzx/FBxrVCxYRDco+vRYVdu8aDC38qJXeO0mPaiCe2NVUcDuJu4AHHRqGBvkZGANB9JAHwZSQEIULRPE87+e+T+9yAzwY3Wd0YnT9MHEn7d3g0lRv+acMgprybpSTN+6oaJ/oD7n6SZ+U2hfB0OISlWle26/K9PieFO9iDRSZiL7BZ2X8lHAJ2Az0QsNBGQ8uN1/1IpJ4f5NngC9y3+mgYb0Z1WF00+jaZadiW7uABztPQ57EBjgxr3CNfA3ljRp5rUg+hEbdAiTpHA3oyD6ar5UGOIbMNcC9XzV5n8Tn4CJw2XkwKH4rHAqVBhi/2eO491STS6okamDjsnQPXP4SlbG9yjaj7D7RvBdAn8IdcuHLMOimQ7rc890cEmsgNkAzXF4tB3qZeM/EZT/5IynBAPUKlV7LG972n0zitkJakdBJtmZW8AHC/xS5qUqZeDlc5GVQpYq2S/oBPTq17XqVOlRPA332/LFRONHHgpPcE8s8WTIqcD/x+LAhZL0TIoRFDy/igwpv3xCGGUGegEqPp+d1HNXaJ/kjid888YnoRwUKRHalzE4Fyg2kyI0UPncgN0Rl3yIuSTpUA7EBrsQYVgUnuXu396CeuO9TtOjffBDr/48GeBdMhHAa2r/Uxyl6uimgB74I9FSumYPcFiJZaP+dvJZzL/Q61JKRUcZLUbxo1LZcdq9W9IaC5VzWnw/JkAoqrJuKxQa4aTawFQkXheez62rBGiTuk2VcRfi3aoVIc1IFz7d8FnfCVZO1SNTw9HZ7g58hNO71IUj8acK0dWAHOBnqGR/ZffZKj5kwQPGFdDQsPsD78or7MkjGl6elLs93f3QF6Enke1BL9CTXguUegWWhngRPdiuFwlKyWvlDSQztu8xcGbaK0mYRXxqCjCByDcwE9615opFav0att0+SNNA2GnB56ER2gj4LvpXPgvVgKfBzwzLZ9S2ElnsUxkCeHEwBy1u/7dSSfcmw3L9hD5gMD4PtuSc1b2f4FKwNV4OGuiXkifu/8IKxPj18kqSBttHARvTECa5nGw2/z65Nuwv8NhcM1LRLYRwUEQ92vEc2rHPDUPKuy8rdk4Uaud5qT9DY9F4hzz5tAEVEz6kHtQ8/K3JDKpM00EwN7EdjegiNQJkfdoQZoFE62eVc2BriI30u64pLVvd2Tv5j6pb88EfX9qfMcbA3LByVX4H4VHApuQ94altUPDixfdmm6E1dVG4hxnII+FyTtKEGBtOnYHyV3VuQBCe7hjS34sN38l8D/uhas+UUGrT9e6GXlp8+M5foYdvg0j1JD2rAfaQeVCNYt8njX4b2ZmdtT2ly281uzpfoQXAoXABuH9R5YALxZogv9G4WHdLGsAnooJRhsCksB20px9IrJ8JFTe5d8L56AZXUzbIKgwvGZui+95korRkGuB3tuU3o1uXu5ozNF5sO5Vm4EtzieO0Ky5e9h4htJ55e2klPNB1EM8QlmG2+Al9sRoMtbkMP6D75yzAWwsQIRjmBtLLlQhpwgi5fdkMtqH8SbWpgziX31TuBunV+HQiHw8twA5jfdjKeHnmaqlEsVnLv5qF+J4MKOrHkttq1epdK6rqZBujS1za7zQA1qD+AL7ggent16w+IuM26Ebw+G+aFXJkvt0RjCzxIde5RLoMzwNPMsuRgKvbzxY/hqLIaSfX204AvPidhO4nGcAAMtF8vcI9LTMU6noefe5HJOlno9uY5cD5PhvOhUFvNNkD69cFv2rtEuhimwfdhDjRSXCJY7ylwRCMrTnW1nQZcSfmLAQuAk/4lcN8biyuBz8N7cWKBuPVcDe/Aa/BVCGJ7E7OLm7PwacLzsnjbB+Po4YiSeulbeM2S6u6kaluxBHUC3gllL0E1ukPgJtDwAhpBtRXPENI9GBoIgylfS9Stez8ZFRWal7jzL0nSwAffb92Phck5oQk6mU4bZR/CbE0bGrnj8iejvgOT4FsQxrsv8UaLS8yvgEb2JbD9v0P4gRENzx9W2R6SJA30M8DVm6CTsg1wF8bgSbqT/3IYDrFsxYV57sMa6Yk0KuuV0eD2xrgGF9pRv36a8ECmkLRiD1ioY6lQKRqot6QqpcEGV+r3tXNAo9PzHQAuAWPZKLt4glADaZSMzCry7MIf7tgLbHsRsD8rgnmeuD8HSZIG+nnACZ9QJx7F5+GnH5egny5Q1v1YUdEANDqNSraBWNwT6h09affAZCw0Ujx0uRH0cI/C5hkzs+tZhANe9iYPiNZ6SMJSaW6GvBs37QC1fqE61Onh2uIwDfJOHfUUx8C7kCdbU2CtrNBsQpd7n4VVszR/dc7447A7aBiNlLepzOWtL4K34EVQ1ge94BsQ0ogWk2SAxfSUSn3492D1oHnLOj2RXnJ8gbL3UaboS2FbygYZReR4eAzsz+twJ0yDK0BjKEM0PD1gLC9zIUmSBvppwKPyuyEs29bsV2JgCb7p8whLUJeAeWVd1hUR67kNwjhOIL4cuBfT4IdDR0rygB352Oa600W9Ta0G3FvlSVii6oWKlM+rz3wNdWhU8CHiT0fXHRv1e0aSpIF214BLzHh/5WFMnnTE3O6ITuZpOuV3vQY8APHkMUj4JBCuK8OTSDgNBnLKWllHU66TATZFzS1rxCVn/O1vSMt68skadu/3S3g1q2ZyjepWIP0COBI8GClyukqx1knaA7ZO92W07OmjH4JHgJN2QfDkMsiPiDwFvng1zG9Dp+yl7qCv58DhsCf4rfFe0Mt5Kuonkv1gGEyFMyFJ0kBTNeCJ4AMQTgvzwrVL6N106tQ4yvhhbD36saAndGyzo7ifB2ZAGWOi2nIkecBy9NqqWp+n4e3ApaYfwZ2wTlRPJvV64RTU0Gfvd7ROEsdyAlwC64KfWUx7Au4DvXtHSTLAjnpchTr7ZKFS5RUKRl5eCx//f5VlttGUuuMNelMaTI30hAb8ZncpzOmJ0aZBJg20mQbSi73gA/k/8EuK9fsMXrsAAAAASUVORK5CYII=)\n",
    "\n",
    "Önce kendi sigmoid fonksiyonunuzu yazın ve sonuç alın.\n",
    "\n",
    "Sonra pytorch'un sigmoid fonksiyonunu kullanarak sonucu teyid edin.\n",
    "\n",
    "Geçen haftaki kodları kullanacaksınız. Geçen hafta görmediğiniz ve bu çalışmada kullanacağınız tek yeni kod:\n",
    "\n",
    "torch.sigmoid(x)"
   ]
  },
  {
   "cell_type": "markdown",
   "metadata": {
    "id": "EQe5ESC4N0q4"
   },
   "source": [
    "x vektörünü tensor olarak oluştur"
   ]
  },
  {
   "cell_type": "code",
   "execution_count": null,
   "metadata": {
    "colab": {
     "base_uri": "https://localhost:8080/"
    },
    "executionInfo": {
     "elapsed": 305,
     "status": "ok",
     "timestamp": 1649318471112,
     "user": {
      "displayName": "Ulya Bayram",
      "userId": "15701028989788055133"
     },
     "user_tz": -180
    },
    "id": "9Fmnp0nXwuBQ",
    "origin_pos": 2,
    "outputId": "112217a4-39de-4e5d-ae99-20b840daeeff",
    "tab": [
     "pytorch"
    ]
   },
   "outputs": [
    {
     "data": {
      "text/plain": [
       "tensor([[0.1000],\n",
       "        [0.3000],\n",
       "        [0.7000]])"
      ]
     },
     "execution_count": 2,
     "metadata": {},
     "output_type": "execute_result"
    }
   ],
   "source": [
    "import torch\n",
    "\n",
    "x = torch.tensor([0.1, 0.3, 0.7]).reshape(-1, 1)\n",
    "\n",
    "x"
   ]
  },
  {
   "cell_type": "markdown",
   "metadata": {
    "id": "DK99aIGFR1g5"
   },
   "source": [
    "Olması gereken:\n",
    "```\n",
    "tensor([[0.1000],\n",
    "        [0.3000],\n",
    "        [0.7000]])\n",
    "\n",
    "```\n",
    "\n"
   ]
  },
  {
   "cell_type": "markdown",
   "metadata": {
    "id": "JTyT1p_PN5iD"
   },
   "source": [
    "randn ile (uniform random) weight ve bias değerlerini bul. manual_seed ile set edince ilk çalıştırmada herkesin aynı weight değerlerini almış olması gerekiyor."
   ]
  },
  {
   "cell_type": "code",
   "execution_count": null,
   "metadata": {
    "colab": {
     "base_uri": "https://localhost:8080/"
    },
    "executionInfo": {
     "elapsed": 471,
     "status": "ok",
     "timestamp": 1649318655780,
     "user": {
      "displayName": "Ulya Bayram",
      "userId": "15701028989788055133"
     },
     "user_tz": -180
    },
    "id": "T21rknYPwuBU",
    "origin_pos": 10,
    "outputId": "dbfc6275-2830-4940-c627-0d7f718066d1",
    "tab": [
     "pytorch"
    ]
   },
   "outputs": [
    {
     "data": {
      "text/plain": [
       "(tensor([[0.6614, 0.2669, 0.0617]]), tensor([[0.6213]]))"
      ]
     },
     "execution_count": 4,
     "metadata": {},
     "output_type": "execute_result"
    }
   ],
   "source": [
    "torch.manual_seed(1) # Bunu da görmemiştiniz, o yüzden hazır veriyorum\n",
    "\n",
    "weight = torch.randn(1, 3)\n",
    "\n",
    "bias = torch.randn(1, 1)\n",
    "\n",
    "weight, bias"
   ]
  },
  {
   "cell_type": "markdown",
   "metadata": {
    "id": "laQLYyu3SBnM"
   },
   "source": [
    "Olması gereken:\n",
    "```\n",
    "(tensor([[0.6614, 0.2669, 0.0617]]), tensor([[0.6213]]))\n",
    "\n",
    "```"
   ]
  },
  {
   "cell_type": "markdown",
   "metadata": {
    "id": "TKgdp-2tOYRi"
   },
   "source": [
    "aktivasyon fonksiyonunu yaz"
   ]
  },
  {
   "cell_type": "code",
   "execution_count": null,
   "metadata": {
    "id": "Wdhh9J5ZOZ93"
   },
   "outputs": [],
   "source": [
    "def sigmoid_activation(x):\n",
    "\n",
    "  return 1 / (1 + torch.exp(-x))"
   ]
  },
  {
   "cell_type": "markdown",
   "metadata": {
    "id": "HEYoKdA6QHzV"
   },
   "source": [
    "fonksiyonun içine gelecek değeri hesapla\n",
    "\n",
    "işlemde gerekli torch fonksiyonunu geçen hafta gördünüz"
   ]
  },
  {
   "cell_type": "code",
   "execution_count": null,
   "metadata": {
    "colab": {
     "base_uri": "https://localhost:8080/"
    },
    "executionInfo": {
     "elapsed": 385,
     "status": "ok",
     "timestamp": 1649318755300,
     "user": {
      "displayName": "Ulya Bayram",
      "userId": "15701028989788055133"
     },
     "user_tz": -180
    },
    "id": "dgU03qe-O65R",
    "outputId": "2f4772be-ad2d-4062-a480-c653d59f2178"
   },
   "outputs": [
    {
     "data": {
      "text/plain": [
       "tensor([[0.8107]])"
      ]
     },
     "execution_count": 5,
     "metadata": {},
     "output_type": "execute_result"
    }
   ],
   "source": [
    "tmp = torch.matmul(weight, x) + bias\n",
    "\n",
    "tmp"
   ]
  },
  {
   "cell_type": "markdown",
   "metadata": {
    "id": "-_7Ak_tKSFXj"
   },
   "source": [
    "Cevap: tensor([[0.8107]])"
   ]
  },
  {
   "cell_type": "markdown",
   "metadata": {
    "id": "Um6FvYvyQNHK"
   },
   "source": [
    "kendi fonksiyonundan aktivasyon sonucunu al"
   ]
  },
  {
   "cell_type": "code",
   "execution_count": null,
   "metadata": {
    "colab": {
     "base_uri": "https://localhost:8080/"
    },
    "executionInfo": {
     "elapsed": 678,
     "status": "ok",
     "timestamp": 1649318799741,
     "user": {
      "displayName": "Ulya Bayram",
      "userId": "15701028989788055133"
     },
     "user_tz": -180
    },
    "id": "53IVbrYhQRVM",
    "outputId": "fc5de9b3-3dc3-4530-e041-5922d76307dd"
   },
   "outputs": [
    {
     "data": {
      "text/plain": [
       "tensor([[0.6923]])"
      ]
     },
     "execution_count": 8,
     "metadata": {},
     "output_type": "execute_result"
    }
   ],
   "source": [
    "sigmoid_activation(tmp)"
   ]
  },
  {
   "cell_type": "markdown",
   "metadata": {
    "id": "cV-e_q9USIrA"
   },
   "source": [
    "Cevap: tensor([[0.6923]])"
   ]
  },
  {
   "cell_type": "code",
   "execution_count": null,
   "metadata": {
    "colab": {
     "base_uri": "https://localhost:8080/"
    },
    "executionInfo": {
     "elapsed": 302,
     "status": "ok",
     "timestamp": 1649318822488,
     "user": {
      "displayName": "Ulya Bayram",
      "userId": "15701028989788055133"
     },
     "user_tz": -180
    },
    "id": "alQv1OAnQfRo",
    "outputId": "abcc1e2b-4f97-4b1a-b6dd-e973da0b513b"
   },
   "outputs": [
    {
     "data": {
      "text/plain": [
       "tensor([[0.6923]])"
      ]
     },
     "execution_count": 9,
     "metadata": {},
     "output_type": "execute_result"
    }
   ],
   "source": [
    "torch.sigmoid(tmp)"
   ]
  },
  {
   "cell_type": "markdown",
   "metadata": {
    "id": "sITZDUqzSLVU"
   },
   "source": [
    "Cevap: tensor([[0.6923]])"
   ]
  },
  {
   "cell_type": "markdown",
   "metadata": {
    "id": "KiJq-N1ByW-e"
   },
   "source": [
    "# Vakit kalırsa"
   ]
  },
  {
   "cell_type": "markdown",
   "metadata": {
    "id": "oM0fzQUaRWoY"
   },
   "source": [
    "Vakit kalırsa ya da evde yukarıdaki tek adet neuron ile input arasına bir adet 2 neuronlu hidden layer ekleyip, ona da random weight ve bias değerleri atayıp, bu neuronlara da sigmoid aktivasyonu ekleyip, az önce oluşturduğunuz aynı output neuronundan sonuç değeri alın"
   ]
  },
  {
   "cell_type": "code",
   "execution_count": null,
   "metadata": {
    "colab": {
     "base_uri": "https://localhost:8080/"
    },
    "executionInfo": {
     "elapsed": 295,
     "status": "ok",
     "timestamp": 1649008929638,
     "user": {
      "displayName": "Ulya Bayram",
      "userId": "15701028989788055133"
     },
     "user_tz": -180
    },
    "id": "eOqGBDXDkZHs",
    "outputId": "cf7a0b49-3659-4999-d523-351489f412f5"
   },
   "outputs": [
    {
     "data": {
      "text/plain": [
       "(tensor([[ 0.6614,  0.2669,  0.0617],\n",
       "         [ 0.6213, -0.4519, -0.1661]]), tensor([[-1.5228],\n",
       "         [ 0.3817]]))"
      ]
     },
     "execution_count": 57,
     "metadata": {},
     "output_type": "execute_result"
    }
   ],
   "source": [
    "torch.manual_seed(1) # Bunu da görmemiştiniz, o yüzden hazır veriyorum\n",
    "\n",
    "weight1 = torch.randn(2, 3)\n",
    "\n",
    "bias1 = torch.randn(2, 1)\n",
    "\n",
    "weight1, bias1"
   ]
  },
  {
   "cell_type": "code",
   "execution_count": null,
   "metadata": {
    "colab": {
     "base_uri": "https://localhost:8080/"
    },
    "executionInfo": {
     "elapsed": 416,
     "status": "ok",
     "timestamp": 1649009156779,
     "user": {
      "displayName": "Ulya Bayram",
      "userId": "15701028989788055133"
     },
     "user_tz": -180
    },
    "id": "N6tXPBbmmnev",
    "outputId": "4b308101-e073-4e8a-9a45-7c17b45ae25c"
   },
   "outputs": [
    {
     "data": {
      "text/plain": [
       "tensor([[-1.3334],\n",
       "        [ 0.1920]])"
      ]
     },
     "execution_count": 61,
     "metadata": {},
     "output_type": "execute_result"
    }
   ],
   "source": [
    "tmp1 = torch.matmul(weight1, x) + bias1\n",
    "\n",
    "tmp1"
   ]
  },
  {
   "cell_type": "code",
   "execution_count": null,
   "metadata": {
    "colab": {
     "base_uri": "https://localhost:8080/"
    },
    "executionInfo": {
     "elapsed": 286,
     "status": "ok",
     "timestamp": 1649008948489,
     "user": {
      "displayName": "Ulya Bayram",
      "userId": "15701028989788055133"
     },
     "user_tz": -180
    },
    "id": "KyV28OPklz6A",
    "outputId": "e8fead8a-4d3e-4c24-dbc2-c27be3c16bdb"
   },
   "outputs": [
    {
     "data": {
      "text/plain": [
       "(tensor([[-0.1955, -0.9656]]), tensor([[0.4224]]))"
      ]
     },
     "execution_count": 59,
     "metadata": {},
     "output_type": "execute_result"
    }
   ],
   "source": [
    "weight2 = torch.randn(1, 2)\n",
    "\n",
    "bias2 = torch.randn(1, 1)\n",
    "\n",
    "weight2, bias2"
   ]
  },
  {
   "cell_type": "code",
   "execution_count": null,
   "metadata": {
    "colab": {
     "base_uri": "https://localhost:8080/"
    },
    "executionInfo": {
     "elapsed": 411,
     "status": "ok",
     "timestamp": 1649009266035,
     "user": {
      "displayName": "Ulya Bayram",
      "userId": "15701028989788055133"
     },
     "user_tz": -180
    },
    "id": "NaYUUs07mvBB",
    "outputId": "d6f1617a-b214-4dee-d4fa-d0c80ed2729a"
   },
   "outputs": [
    {
     "data": {
      "text/plain": [
       "tensor([[-0.1474]])"
      ]
     },
     "execution_count": 64,
     "metadata": {},
     "output_type": "execute_result"
    }
   ],
   "source": [
    "tmp2 = torch.matmul(weight2, torch.sigmoid(tmp1)) + bias2\n",
    "\n",
    "tmp2"
   ]
  },
  {
   "cell_type": "code",
   "execution_count": null,
   "metadata": {
    "colab": {
     "base_uri": "https://localhost:8080/"
    },
    "executionInfo": {
     "elapsed": 335,
     "status": "ok",
     "timestamp": 1649009295856,
     "user": {
      "displayName": "Ulya Bayram",
      "userId": "15701028989788055133"
     },
     "user_tz": -180
    },
    "id": "grSFOuyDm1Vu",
    "outputId": "e0154b32-5238-4227-9013-d17b79fbfbee"
   },
   "outputs": [
    {
     "data": {
      "text/plain": [
       "tensor([[0.4632]])"
      ]
     },
     "execution_count": 67,
     "metadata": {},
     "output_type": "execute_result"
    }
   ],
   "source": [
    "torch.sigmoid(tmp2)"
   ]
  }
 ],
 "metadata": {
  "colab": {
   "collapsed_sections": [
    "KiJq-N1ByW-e"
   ],
   "name": "Hafta - 6 feed forward.ipynb adlı not defterinin kopyası",
   "provenance": [
    {
     "file_id": "12GLNsApVY1CPjQMTYQ8Yq025pk7mWYSk",
     "timestamp": 1650216890712
    },
    {
     "file_id": "https://github.com/d2l-ai/d2l-pytorch-colab/blob/master/chapter_preliminaries/autograd.ipynb",
     "timestamp": 1648995017059
    }
   ]
  },
  "kernelspec": {
   "display_name": "Python 3",
   "language": "python",
   "name": "python3"
  },
  "language_info": {
   "codemirror_mode": {
    "name": "ipython",
    "version": 3
   },
   "file_extension": ".py",
   "mimetype": "text/x-python",
   "name": "python",
   "nbconvert_exporter": "python",
   "pygments_lexer": "ipython3",
   "version": "3.8.3"
  }
 },
 "nbformat": 4,
 "nbformat_minor": 1
}
